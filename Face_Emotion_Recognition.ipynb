{
  "cells": [
    {
      "cell_type": "markdown",
      "metadata": {
        "id": "view-in-github",
        "colab_type": "text"
      },
      "source": [
        "<a href=\"https://colab.research.google.com/github/Debrup-commits/Face-Emotion-Recognition-CNN/blob/main/Face_Emotion_Recognition.ipynb\" target=\"_parent\"><img src=\"https://colab.research.google.com/assets/colab-badge.svg\" alt=\"Open In Colab\"/></a>"
      ]
    },
    {
      "cell_type": "markdown",
      "metadata": {
        "id": "4JMOL_2jw6Vl"
      },
      "source": [
        "# **Drive Setup and CSV loading**"
      ]
    },
    {
      "cell_type": "code",
      "execution_count": 1,
      "metadata": {
        "id": "2oV2_QMCrixC"
      },
      "outputs": [],
      "source": [
        "from google.colab import drive"
      ]
    },
    {
      "cell_type": "code",
      "execution_count": 2,
      "metadata": {
        "colab": {
          "base_uri": "https://localhost:8080/"
        },
        "id": "yxTDT67esiVP",
        "outputId": "68f17deb-cb1b-419d-8add-77df68e2406c"
      },
      "outputs": [
        {
          "output_type": "stream",
          "name": "stdout",
          "text": [
            "Mounted at /content/drive\n"
          ]
        }
      ],
      "source": [
        "drive.mount('/content/drive')"
      ]
    },
    {
      "cell_type": "code",
      "execution_count": 3,
      "metadata": {
        "id": "BvDBmkQhXtrf"
      },
      "outputs": [],
      "source": [
        "!cp /content/drive/MyDrive/NN\\ Tasks/Face\\ Emotion\\ Recognition/train.csv.zip /content/\n",
        "!cp /content/drive/MyDrive/NN\\ Tasks/Face\\ Emotion\\ Recognition/test.csv.zip /content/"
      ]
    },
    {
      "cell_type": "code",
      "execution_count": 4,
      "metadata": {
        "id": "uTykeVG_u-f9"
      },
      "outputs": [],
      "source": [
        "!unzip -q /content/train.csv.zip\n",
        "!unzip -q /content/test.csv.zip"
      ]
    },
    {
      "cell_type": "markdown",
      "metadata": {
        "id": "MjMDTfETY3yr"
      },
      "source": [
        "# **Dataset Setup**"
      ]
    },
    {
      "cell_type": "code",
      "execution_count": 5,
      "metadata": {
        "id": "DIF9ompefa_e"
      },
      "outputs": [],
      "source": [
        "from __future__ import print_function\n",
        "import pandas as pd\n",
        "import numpy as np\n",
        "from PIL import Image\n",
        "import os\n",
        "from tqdm import tqdm\n",
        "import pdb\n",
        "\n",
        "class Generate_data():\n",
        "  def __init__(self, datapath):\n",
        "    \"\"\"\n",
        "        Generate_data class\n",
        "        Two methods to be used\n",
        "        1-split_test\n",
        "        2-save_img\n",
        "        \n",
        "    \"\"\"\n",
        "    self.data_path = datapath\n",
        "  \n",
        "  def split_train(self, train_filename='train_f', val_filename='val'):\n",
        "\n",
        "    \"\"\"\n",
        "        splits the train.csv into final training and validation csv files\n",
        "        converts the pixel string into images and saves them into respective\n",
        "        folders for dataset class to work on\n",
        "\n",
        "    \"\"\"\n",
        "    csv_path = self.data_path+\"/\"+'train.csv'\n",
        "    train = pd.read_csv(csv_path)\n",
        "\n",
        "    validation_data = pd.DataFrame(train.iloc[:3588, :])\n",
        "    train_data = pd.DataFrame(train.iloc[3588:, :])\n",
        "\n",
        "    train_data.to_csv(self.data_path+\"/\"+train_filename+'.csv')\n",
        "    validation_data.to_csv(self.data_path+\"/\"+val_filename+'.csv')\n",
        "\n",
        "    print(\"train.csv split into val.csv(for evaluating) and train_f.csv(for training)\")\n",
        "  \n",
        "  def str_to_img(self, str_img = ' '):\n",
        "    # converts image string to image\n",
        "\n",
        "    img_arr_str = str_img.split(' ')\n",
        "    img_arr = np.asarray(img_arr_str, dtype=np.uint8).reshape(48, 48)\n",
        "    return Image.fromarray(img_arr)\n",
        "\n",
        "  def save_img(self, datatype='test'):\n",
        "    # saves images into folders\n",
        "    \n",
        "    folder_path = self.data_path+\"/\"+datatype\n",
        "    csv_path = self.data_path+\"/\"+datatype+'.csv'\n",
        "\n",
        "    if not os.path.exists(folder_path):\n",
        "      os.mkdir(folder_path)\n",
        "    \n",
        "    df = pd.read_csv(csv_path)\n",
        "    image_strings = df['pixels']\n",
        "    no_of_imgs = len(image_strings)\n",
        "\n",
        "    for i in tqdm(range(no_of_imgs)):\n",
        "      img = self.str_to_img(image_strings[i])\n",
        "      img.save(os.path.join(folder_path, '{}{}.jpg'.format(datatype, i)), 'JPEG')\n",
        "  \n",
        "    print(\"Images saved!\")\n"
      ]
    },
    {
      "cell_type": "code",
      "execution_count": 6,
      "metadata": {
        "colab": {
          "base_uri": "https://localhost:8080/"
        },
        "id": "pYzs7trQWr6A",
        "outputId": "d9c56c19-09cd-4cc6-a664-47b62822a68f"
      },
      "outputs": [
        {
          "output_type": "stream",
          "name": "stdout",
          "text": [
            "train.csv split into val.csv(for evaluating) and train_f.csv(for training)\n"
          ]
        },
        {
          "output_type": "stream",
          "name": "stderr",
          "text": [
            "100%|██████████| 7178/7178 [00:04<00:00, 1619.68it/s]\n"
          ]
        },
        {
          "output_type": "stream",
          "name": "stdout",
          "text": [
            "Images saved!\n"
          ]
        },
        {
          "output_type": "stream",
          "name": "stderr",
          "text": [
            "100%|██████████| 25121/25121 [00:16<00:00, 1479.03it/s]\n"
          ]
        },
        {
          "output_type": "stream",
          "name": "stdout",
          "text": [
            "Images saved!\n"
          ]
        },
        {
          "output_type": "stream",
          "name": "stderr",
          "text": [
            "100%|██████████| 3588/3588 [00:02<00:00, 1666.54it/s]"
          ]
        },
        {
          "output_type": "stream",
          "name": "stdout",
          "text": [
            "Images saved!\n"
          ]
        },
        {
          "output_type": "stream",
          "name": "stderr",
          "text": [
            "\n"
          ]
        }
      ],
      "source": [
        "# splitting the dataset and generating image folders\n",
        "\n",
        "gd = Generate_data('/content')\n",
        "gd.split_train()\n",
        "gd.save_img()\n",
        "gd.save_img('train_f')\n",
        "gd.save_img('val')"
      ]
    },
    {
      "cell_type": "markdown",
      "metadata": {
        "id": "mp6j7be3aBu7"
      },
      "source": [
        "# **Dataset Class**"
      ]
    },
    {
      "cell_type": "code",
      "execution_count": 7,
      "metadata": {
        "id": "vYME5CGbaLfl"
      },
      "outputs": [],
      "source": [
        "import os\n",
        "import pandas as pd\n",
        "import numpy as np\n",
        "from PIL import Image\n",
        "import torch\n",
        "import torchvision\n",
        "from torch.utils.data import Dataset, DataLoader\n",
        "from torchvision import transforms\n",
        "import matplotlib.pyplot as plt\n",
        "\n",
        "class CustomDataset(Dataset):\n",
        "  def __init__(self, csv_path, img_dir, datatype, transform):\n",
        "    self.csv_file=pd.read_csv(csv_path)\n",
        "    self.label = self.csv_file['emotion']\n",
        "    self.img_dir = img_dir\n",
        "    self.transform = transform\n",
        "    self.datatype = datatype\n",
        "\n",
        "  def __len__(self):\n",
        "    return len(self.csv_file)\n",
        "  \n",
        "  def __getitem__(self, idx):\n",
        "    if(torch.is_tensor(idx)):\n",
        "      idx=idx.to_list()\n",
        "\n",
        "    label=np.array(self.label[idx]);\n",
        "    label=torch.from_numpy(label).long()\n",
        "    image=Image.open(self.img_dir+self.datatype+str(idx)+'.jpg')\n",
        "    \n",
        "    if self.transform:\n",
        "      image = self.transform(image)\n",
        "\n",
        "    return image, label\n",
        "\n",
        "def eval_dataset_class(csv_path, img_dir, datatype, sample_idx, transform=None):\n",
        "  if transform is None:\n",
        "    transform = transforms.Compose([transforms.ToTensor(),transforms.Normalize((0.5,),(0.5,))])\n",
        "\n",
        "  dataset=CustomDataset(csv_path, img_dir, datatype, transform)\n",
        "  image = dataset.__getitem__(sample_idx)[0]\n",
        "  label = dataset.__getitem__(sample_idx)[1]\n",
        "\n",
        "  # prints label\n",
        "  print(label)\n",
        "\n",
        "  # shows image\n",
        "  image=image.numpy()\n",
        "  image=image.squeeze()\n",
        "  plt.imshow(image)\n",
        "  plt.show()"
      ]
    },
    {
      "cell_type": "code",
      "execution_count": 8,
      "metadata": {
        "colab": {
          "base_uri": "https://localhost:8080/",
          "height": 284
        },
        "id": "gekoAM6MnWkF",
        "outputId": "4f345fc4-afe1-4d53-8a4b-756389c42649"
      },
      "outputs": [
        {
          "output_type": "stream",
          "name": "stdout",
          "text": [
            "tensor(6)\n"
          ]
        },
        {
          "output_type": "display_data",
          "data": {
            "text/plain": [
              "<Figure size 432x288 with 1 Axes>"
            ],
            "image/png": "[encoded data removed]"
          },
          "metadata": {
            "needs_background": "light"
          }
        }
      ],
      "source": [
        "csv_path='/content/train_f.csv'\n",
        "img_dir='/content/train_f/'\n",
        "datatype='train_f'\n",
        "transform=None\n",
        "eval_dataset_class(csv_path, img_dir, datatype, 100, transform)"
      ]
    },
    {
      "cell_type": "markdown",
      "metadata": {
        "id": "5a479Hw92jUU"
      },
      "source": [
        "# **Our** **Model**"
      ]
    },
    {
      "cell_type": "code",
      "execution_count": 9,
      "metadata": {
        "id": "SRLR1R-Yybz_"
      },
      "outputs": [],
      "source": [
        "from torch.nn.modules.pooling import MaxPool2d\n",
        "import torch\n",
        "import torch.nn as nn\n",
        "import torch.nn.functional as F\n",
        "\n",
        "class MyModel(nn.Module):\n",
        "  def __init__(self):\n",
        "\n",
        "    # inheriting all the methods from the \"Module\" class\n",
        "    super(MyModel, self).__init__()\n",
        "\n",
        "    # convolution layers\n",
        "    self.conv1 = nn.Conv2d(1, 10, 3)\n",
        "    self.conv2 = nn.Conv2d(10, 10, 3)\n",
        "    self.conv3 = nn.Conv2d(10, 10, 3)\n",
        "    self.conv4 = nn.Conv2d(10, 10, 3)\n",
        "\n",
        "    # Pooling layers\n",
        "    self.pool2 = nn.MaxPool2d(2, 2)\n",
        "    self.pool4 = nn.MaxPool2d(2, 2)\n",
        "\n",
        "    # Batch normalisation for mormalising inputs\n",
        "    self.norm = nn.BatchNorm2d(10)\n",
        "\n",
        "    # fully connected layers\n",
        "    self.fc1 = nn.Linear(810, 50)\n",
        "    self.fc2 = nn.Linear(50, 7)\n",
        "\n",
        "    # The attention Unit/Localisation Network\n",
        "    self.localisation = nn.Sequential(\n",
        "        nn.Conv2d(1, 8, 7),\n",
        "        nn.MaxPool2d(2, stride = 2), #pool1\n",
        "        nn.ReLU(True),\n",
        "        nn.Conv2d(8, 10, 5),\n",
        "        nn.MaxPool2d(2, stride=2), #pool3\n",
        "        nn.ReLU(True)\n",
        "    )\n",
        "\n",
        "    self.fc_loc = nn.Sequential(\n",
        "        nn.Linear(640, 32),\n",
        "        nn.ReLU(True),\n",
        "        nn.Linear(32, 3*2)\n",
        "    )\n",
        "\n",
        "    # setting weightss to zero\n",
        "    self.fc_loc[2].weight.data.zero_()\n",
        "\n",
        "    # initialising bias\n",
        "    self.fc_loc[2].bias.data.copy_(torch.tensor([1, 0, 0, 0, 1, 0], dtype=torch.float))\n",
        "\n",
        "  def LocNet(self, x):\n",
        "    x_1 = self.localisation(x)\n",
        "    x_1 = x_1.view(-1, 640) #reshaping\n",
        "    theta = self.fc_loc(x_1)\n",
        "    theta = theta.view(-1, 2, 3)\n",
        "    grid = F.affine_grid(theta, x.size())\n",
        "    x = F.grid_sample(x, grid)\n",
        "\n",
        "    return x\n",
        "\n",
        "  def forward(self, x):\n",
        "    out = self.LocNet(x)\n",
        "\n",
        "    # DeepEmotion Network\n",
        "    # Block1\n",
        "    out = F.relu(self.conv1(out))\n",
        "    out = self.conv2(out)\n",
        "    out = F.relu(self.pool2(out))\n",
        "\n",
        "    # Block2\n",
        "    out = F.relu(self.conv3(out))\n",
        "    out = self.conv4(out)\n",
        "    out = F.relu(self.pool4(out))\n",
        "\n",
        "    out = F.dropout(out) #meant to avoid overfitting\n",
        "    out = out.view(-1, 810)\n",
        "    out = F.relu(self.fc1(out))\n",
        "    out = self.fc2(out)\n",
        "\n",
        "    return out\n"
      ]
    },
    {
      "cell_type": "markdown",
      "metadata": {
        "id": "wVZcl6xCwx3X"
      },
      "source": [
        "# **Training**"
      ]
    },
    {
      "cell_type": "code",
      "source": [
        "from __future__ import print_function\n",
        "import argparse\n",
        "import numpy  as np\n",
        "from PIL import Image\n",
        "import torch\n",
        "import torch.nn as nn\n",
        "import torch.nn.functional as F\n",
        "import torchvision\n",
        "import torch.optim as optim\n",
        "from torch.utils.data import DataLoader, Dataset\n",
        "from torch.utils.data.sampler import SubsetRandomSampler\n",
        "from torchvision import transforms\n",
        "\n",
        "device = torch.device(\"cuda:0\" if torch.cuda.is_available() else \"cpu\")\n",
        "\n",
        "def Train(epochs,train_loader,val_loader,criterion,optmizer,device):\n",
        "\n",
        "    print(\"===================================Start Training===================================\")\n",
        "    for e in range(epochs):\n",
        "        train_loss = 0\n",
        "        validation_loss = 0\n",
        "        train_correct = 0\n",
        "        val_correct = 0\n",
        "\n",
        "        # Train the model\n",
        "        model.train()\n",
        "        for data, labels in train_loader:\n",
        "            data, labels = data.to(device), labels.to(device)\n",
        "            optmizer.zero_grad()\n",
        "            outputs = model(data)\n",
        "            loss = criterion(outputs,labels)\n",
        "            loss.backward()\n",
        "            optmizer.step()\n",
        "            train_loss += loss.item()\n",
        "            _, preds = torch.max(outputs,1)\n",
        "            train_correct += torch.sum(preds == labels.data)\n",
        "\n",
        "        #validate the model#\n",
        "        model.eval()\n",
        "        for data,labels in val_loader:\n",
        "            data, labels = data.to(device), labels.to(device)\n",
        "            val_outputs = model(data)\n",
        "            val_loss = criterion(val_outputs, labels)\n",
        "            validation_loss += val_loss.item()\n",
        "            _, val_preds = torch.max(val_outputs,1)\n",
        "            val_correct += torch.sum(val_preds == labels.data)\n",
        "\n",
        "        train_loss = train_loss/len(train_dataset)\n",
        "        train_acc = train_correct.double() / len(train_dataset)\n",
        "        validation_loss =  validation_loss / len(val_dataset)\n",
        "        val_acc = val_correct.double() / len(val_dataset)\n",
        "        print('Epoch: {}  Training Loss: {:.8f}  Validation Loss: {:.8f}  Training Accuarcy: {:.3f}%  Validation Accuarcy: {:.3f}%'\n",
        "                                                           .format(e+1, train_loss,validation_loss,train_acc * 100, val_acc*100))\n",
        "\n",
        "    print(\"===================================Training Finished===================================\")\n",
        "\n"
      ],
      "metadata": {
        "id": "qNtrDg7sAfRa"
      },
      "execution_count": 78,
      "outputs": []
    },
    {
      "cell_type": "code",
      "source": [
        "# Training setup\n",
        "epochs = 100\n",
        "batchsize = 128\n",
        "lr = 0.005\n",
        "\n",
        "model = MyModel()\n",
        "model.to(device)\n",
        "         \n",
        "train_csv_file = '/content/train_f.csv'\n",
        "val_csv_file = '/content/val.csv'\n",
        "train_img_dir = '/content/train_f/'\n",
        "val_img_dir = '/content/val/'\n",
        "\n",
        "tranfrom = transforms.Compose([transforms.ToTensor(),transforms.Normalize((0.5,),(0.5,))])\n",
        "train_dataset= CustomDataset(train_csv_file, train_img_dir, 'train_f', transform)\n",
        "val_dataset= CustomDataset(val_csv_file, val_img_dir, 'val', transform)\n",
        "train_loader= DataLoader(train_dataset, batch_size=batchsize, shuffle = True, num_workers=0)\n",
        "val_loader=   DataLoader(val_dataset, batch_size=batchsize, shuffle = True, num_workers=0)\n",
        "\n",
        "criterion= nn.CrossEntropyLoss()\n",
        "optmizer= optim.Adam(model.parameters(),lr= lr)\n",
        "\n",
        "#Train the model\n",
        "Train(epochs, train_loader, val_loader, criterion, optmizer, device)"
      ],
      "metadata": {
        "colab": {
          "base_uri": "https://localhost:8080/"
        },
        "id": "0E5Y03s4ntDI",
        "outputId": "84731906-b305-452f-af92-4f44d16fd0f8"
      },
      "execution_count": null,
      "outputs": [
        {
          "output_type": "stream",
          "name": "stdout",
          "text": [
            "===================================Start Training===================================\n"
          ]
        },
        {
          "output_type": "stream",
          "name": "stderr",
          "text": [
            "/usr/local/lib/python3.7/dist-packages/torch/nn/functional.py:4256: UserWarning: Default grid_sample and affine_grid behavior has changed to align_corners=False since 1.3.0. Please specify align_corners=True if the old behavior is desired. See the documentation of grid_sample for details.\n",
            "  \"Default grid_sample and affine_grid behavior has changed \"\n",
            "/usr/local/lib/python3.7/dist-packages/torch/nn/functional.py:4194: UserWarning: Default grid_sample and affine_grid behavior has changed to align_corners=False since 1.3.0. Please specify align_corners=True if the old behavior is desired. See the documentation of grid_sample for details.\n",
            "  \"Default grid_sample and affine_grid behavior has changed \"\n"
          ]
        },
        {
          "output_type": "stream",
          "name": "stdout",
          "text": [
            "Epoch: 1  Training Loss: 0.01361557  Validation Loss: 0.01317001  Training Accuarcy: 29.107%  Validation Accuarcy: 34.030%\n",
            "Epoch: 2  Training Loss: 0.01263842  Validation Loss: 0.01290678  Training Accuarcy: 36.587%  Validation Accuarcy: 38.657%\n",
            "Epoch: 3  Training Loss: 0.01211292  Validation Loss: 0.01221270  Training Accuarcy: 39.350%  Validation Accuarcy: 40.747%\n",
            "Epoch: 4  Training Loss: 0.01171700  Validation Loss: 0.01186419  Training Accuarcy: 41.822%  Validation Accuarcy: 43.200%\n",
            "Epoch: 5  Training Loss: 0.01139309  Validation Loss: 0.01173765  Training Accuarcy: 43.653%  Validation Accuarcy: 43.645%\n",
            "Epoch: 6  Training Loss: 0.01120902  Validation Loss: 0.01155581  Training Accuarcy: 44.425%  Validation Accuarcy: 44.844%\n",
            "Epoch: 7  Training Loss: 0.01105450  Validation Loss: 0.01158549  Training Accuarcy: 46.033%  Validation Accuarcy: 44.565%\n",
            "Epoch: 8  Training Loss: 0.01097155  Validation Loss: 0.01162913  Training Accuarcy: 45.643%  Validation Accuarcy: 44.677%\n",
            "Epoch: 9  Training Loss: 0.01078276  Validation Loss: 0.01181220  Training Accuarcy: 46.718%  Validation Accuarcy: 44.788%\n",
            "Epoch: 10  Training Loss: 0.01072474  Validation Loss: 0.01141584  Training Accuarcy: 46.881%  Validation Accuarcy: 46.042%\n"
          ]
        }
      ]
    },
    {
      "cell_type": "code",
      "source": [
        "torch.save(model.state_dict(), '/content/Deep_Emotion_Model.pt')\n",
        "torch.save(model.state_dict(), '/content/drive/MyDrive/NN Tasks/Face Emotion Recognition/model.pt')\n",
        "print(\"Model saved!\")"
      ],
      "metadata": {
        "id": "psLA71bu_8gp"
      },
      "execution_count": null,
      "outputs": []
    },
    {
      "cell_type": "code",
      "source": [
        "model = MyModel()\n",
        "model.load_state_dict(torch.load('/content/drive/MyDrive/NN Tasks/Face Emotion Recognition/model.pt'))\n",
        "model.to(device)"
      ],
      "metadata": {
        "id": "u-_MM-Jh-FqB"
      },
      "execution_count": null,
      "outputs": []
    },
    {
      "cell_type": "markdown",
      "source": [
        "# **Visualisation setup**"
      ],
      "metadata": {
        "id": "1GczAbQX8HaH"
      }
    },
    {
      "cell_type": "code",
      "source": [
        "import cv2\n",
        "import matplotlib.pyplot as plt\n",
        "\n",
        "frame = cv2.imread('/content/drive/MyDrive/NN Tasks/Face Emotion Recognition/sad man.jpg')\n",
        "plt.imshow(frame)"
      ],
      "metadata": {
        "colab": {
          "base_uri": "https://localhost:8080/",
          "height": 286
        },
        "id": "hu61nTDz7dvH",
        "outputId": "57476722-e1f0-4543-9225-a1d24ed3433d"
      },
      "execution_count": 38,
      "outputs": [
        {
          "output_type": "execute_result",
          "data": {
            "text/plain": [
              "<matplotlib.image.AxesImage at 0x7ff65b0bd7d0>"
            ]
          },
          "metadata": {},
          "execution_count": 38
        },
        {
          "output_type": "display_data",
          "data": {
            "text/plain": [
              "<Figure size 432x288 with 1 Axes>"
            ],
            "image/png": "[encoded data removed]"
          },
          "metadata": {
            "needs_background": "light"
          }
        }
      ]
    },
    {
      "cell_type": "code",
      "source": [
        "face_cascade = cv2.CascadeClassifier(cv2.data.haarcascades+'haarcascade_frontalface_default.xml')\n",
        "gray = cv2.cvtColor(frame, cv2.COLOR_BGR2GRAY)\n",
        "face_roi=gray"
      ],
      "metadata": {
        "id": "keITkjQQ8oua"
      },
      "execution_count": 39,
      "outputs": []
    },
    {
      "cell_type": "code",
      "source": [
        "# detect face\n",
        "faces = face_cascade.detectMultiScale(frame, 1.1, 4)\n",
        "for x, y, w, h in faces:\n",
        "  roi_gray=gray[y:y+h, x:x+w]\n",
        "  roi_color=frame[y:y+h, x:x+w]\n",
        "  cv2.rectangle(frame, (x, y), (x+w, y+h), (255, 255, 0), 2)\n",
        "  facess=face_cascade.detectMultiScale(roi_gray)\n",
        "  if len(facess)==0:\n",
        "    print(\"Face not detected\")\n",
        "  else:\n",
        "    for(ex, ey, ew, eh) in facess:\n",
        "      # face region of interest\n",
        "      face_roi=roi_color[ey:ey+h, ex:ex+w]\n",
        "\n",
        "plt.imshow(cv2.cvtColor(frame, cv2.COLOR_BGR2RGB))"
      ],
      "metadata": {
        "colab": {
          "base_uri": "https://localhost:8080/",
          "height": 286
        },
        "id": "27ROzNrIBPRp",
        "outputId": "e71a171c-3b4b-4d14-af34-704c16691444"
      },
      "execution_count": 40,
      "outputs": [
        {
          "output_type": "execute_result",
          "data": {
            "text/plain": [
              "<matplotlib.image.AxesImage at 0x7ff65aea0b90>"
            ]
          },
          "metadata": {},
          "execution_count": 40
        },
        {
          "output_type": "display_data",
          "data": {
            "text/plain": [
              "<Figure size 432x288 with 1 Axes>"
            ],
            "image/png": "[encoded data removed]"
          },
          "metadata": {
            "needs_background": "light"
          }
        }
      ]
    },
    {
      "cell_type": "code",
      "source": [
        "gray=cv2.cvtColor(face_roi, cv2.COLOR_BGR2GRAY)\n",
        "\n",
        "# resize to input dims required by the model\n",
        "final_img=cv2.resize(gray, (48, 48))\n",
        "\n",
        "final_img=np.expand_dims(final_img, axis=0) #adds 3rd dimension\n",
        "final_img=np.expand_dims(final_img, axis=0) #adds 4th dimension\n"
      ],
      "metadata": {
        "id": "TLN8kRWgF_Ja"
      },
      "execution_count": 51,
      "outputs": []
    },
    {
      "cell_type": "code",
      "source": [
        "# now img can be fed into the model to judge output\n",
        "final_img=final_img/255.0 #normalization\n",
        "data=torch.from_numpy(final_img)\n",
        "data=data.type(torch.FloatTensor)\n",
        "data=data.to(device)"
      ],
      "metadata": {
        "id": "j9nl3qFiGUPw"
      },
      "execution_count": 52,
      "outputs": []
    },
    {
      "cell_type": "code",
      "source": [
        "# model output\n",
        "\n",
        "Output=model(data)\n",
        "pred = F.softmax(Output, dim=1)\n",
        "index_pred=torch.argmax(pred)\n",
        "\n",
        "print(index_pred)"
      ],
      "metadata": {
        "colab": {
          "base_uri": "https://localhost:8080/"
        },
        "id": "YlX-DxZbJ4yv",
        "outputId": "ff43a30e-1814-4399-cf1d-7b38b153fc41"
      },
      "execution_count": 53,
      "outputs": [
        {
          "output_type": "stream",
          "name": "stdout",
          "text": [
            "tensor(4)\n"
          ]
        },
        {
          "output_type": "stream",
          "name": "stderr",
          "text": [
            "/usr/local/lib/python3.7/dist-packages/torch/nn/functional.py:4256: UserWarning: Default grid_sample and affine_grid behavior has changed to align_corners=False since 1.3.0. Please specify align_corners=True if the old behavior is desired. See the documentation of grid_sample for details.\n",
            "  \"Default grid_sample and affine_grid behavior has changed \"\n",
            "/usr/local/lib/python3.7/dist-packages/torch/nn/functional.py:4194: UserWarning: Default grid_sample and affine_grid behavior has changed to align_corners=False since 1.3.0. Please specify align_corners=True if the old behavior is desired. See the documentation of grid_sample for details.\n",
            "  \"Default grid_sample and affine_grid behavior has changed \"\n"
          ]
        }
      ]
    },
    {
      "cell_type": "markdown",
      "source": [
        "# **WEBCAM IMPLEMENTATION**"
      ],
      "metadata": {
        "id": "c1IeE6V7LMX4"
      }
    },
    {
      "cell_type": "markdown",
      "source": [
        "**Dependencies**"
      ],
      "metadata": {
        "id": "-KD8uPhaekfq"
      }
    },
    {
      "cell_type": "code",
      "source": [
        "# import dependencies\n",
        "from IPython.display import display, Javascript, Image\n",
        "from google.colab.output import eval_js\n",
        "from base64 import b64decode, b64encode\n",
        "import cv2\n",
        "import numpy as np\n",
        "import PIL\n",
        "import io\n",
        "import html\n",
        "import time"
      ],
      "metadata": {
        "id": "keIPPb8Gempk"
      },
      "execution_count": 63,
      "outputs": []
    },
    {
      "cell_type": "markdown",
      "source": [
        "**Helper Functions**"
      ],
      "metadata": {
        "id": "8FKqT1l8ebMy"
      }
    },
    {
      "cell_type": "code",
      "source": [
        "# function to convert the JavaScript object into an OpenCV image\n",
        "def js_to_image(js_reply):\n",
        "  \"\"\"\n",
        "  Params:\n",
        "          js_reply: JavaScript object containing image from webcam\n",
        "  Returns:\n",
        "          img: OpenCV BGR image\n",
        "  \"\"\"\n",
        "  # decode base64 image\n",
        "  image_bytes = b64decode(js_reply.split(',')[1])\n",
        "  # convert bytes to numpy array\n",
        "  jpg_as_np = np.frombuffer(image_bytes, dtype=np.uint8)\n",
        "  # decode numpy array into OpenCV BGR image\n",
        "  img = cv2.imdecode(jpg_as_np, flags=1)\n",
        "\n",
        "  return img\n",
        "\n",
        "# function to convert OpenCV Rectangle bounding box image into base64 byte string to be overlayed on video stream\n",
        "def bbox_to_bytes(bbox_array):\n",
        "  \"\"\"\n",
        "  Params:\n",
        "          bbox_array: Numpy array (pixels) containing rectangle to overlay on video stream.\n",
        "  Returns:\n",
        "        bytes: Base64 image byte string\n",
        "  \"\"\"\n",
        "  # convert array into PIL image\n",
        "  bbox_PIL = PIL.Image.fromarray(bbox_array, 'RGBA')\n",
        "  iobuf = io.BytesIO()\n",
        "  # format bbox into png for return\n",
        "  bbox_PIL.save(iobuf, format='png')\n",
        "  # format return string\n",
        "  bbox_bytes = 'data:image/png;base64,{}'.format((str(b64encode(iobuf.getvalue()), 'utf-8')))\n",
        "\n",
        "  return bbox_bytes"
      ],
      "metadata": {
        "id": "IEmTEkc7eaDj"
      },
      "execution_count": 64,
      "outputs": []
    },
    {
      "cell_type": "markdown",
      "source": [
        "**Webcam access** **setup**"
      ],
      "metadata": {
        "id": "lopsPrBCdw_i"
      }
    },
    {
      "cell_type": "code",
      "source": [
        "# JavaScript to properly create our live video stream using our webcam as input\n",
        "def video_stream():\n",
        "  js = Javascript('''\n",
        "    var video;\n",
        "    var div = null;\n",
        "    var stream;\n",
        "    var captureCanvas;\n",
        "    var imgElement;\n",
        "    var labelElement;\n",
        "    \n",
        "    var pendingResolve = null;\n",
        "    var shutdown = false;\n",
        "    \n",
        "    function removeDom() {\n",
        "       stream.getVideoTracks()[0].stop();\n",
        "       video.remove();\n",
        "       div.remove();\n",
        "       video = null;\n",
        "       div = null;\n",
        "       stream = null;\n",
        "       imgElement = null;\n",
        "       captureCanvas = null;\n",
        "       labelElement = null;\n",
        "    }\n",
        "    \n",
        "    function onAnimationFrame() {\n",
        "      if (!shutdown) {\n",
        "        window.requestAnimationFrame(onAnimationFrame);\n",
        "      }\n",
        "      if (pendingResolve) {\n",
        "        var result = \"\";\n",
        "        if (!shutdown) {\n",
        "          captureCanvas.getContext('2d').drawImage(video, 0, 0, 640, 480);\n",
        "          result = captureCanvas.toDataURL('image/jpeg', 0.8)\n",
        "        }\n",
        "        var lp = pendingResolve;\n",
        "        pendingResolve = null;\n",
        "        lp(result);\n",
        "      }\n",
        "    }\n",
        "    \n",
        "    async function createDom() {\n",
        "      if (div !== null) {\n",
        "        return stream;\n",
        "      }\n",
        "\n",
        "      div = document.createElement('div');\n",
        "      div.style.border = '2px solid black';\n",
        "      div.style.padding = '3px';\n",
        "      div.style.width = '100%';\n",
        "      div.style.maxWidth = '600px';\n",
        "      document.body.appendChild(div);\n",
        "      \n",
        "      const modelOut = document.createElement('div');\n",
        "      modelOut.innerHTML = \"<span>Status:</span>\";\n",
        "      labelElement = document.createElement('span');\n",
        "      labelElement.innerText = 'No data';\n",
        "      labelElement.style.fontWeight = 'bold';\n",
        "      modelOut.appendChild(labelElement);\n",
        "      div.appendChild(modelOut);\n",
        "           \n",
        "      video = document.createElement('video');\n",
        "      video.style.display = 'block';\n",
        "      video.width = div.clientWidth - 6;\n",
        "      video.setAttribute('playsinline', '');\n",
        "      video.onclick = () => { shutdown = true; };\n",
        "      stream = await navigator.mediaDevices.getUserMedia(\n",
        "          {video: { facingMode: \"environment\"}});\n",
        "      div.appendChild(video);\n",
        "\n",
        "      imgElement = document.createElement('img');\n",
        "      imgElement.style.position = 'absolute';\n",
        "      imgElement.style.zIndex = 1;\n",
        "      imgElement.onclick = () => { shutdown = true; };\n",
        "      div.appendChild(imgElement);\n",
        "      \n",
        "      const instruction = document.createElement('div');\n",
        "      instruction.innerHTML = \n",
        "          '<span style=\"color: red; font-weight: bold;\">' +\n",
        "          'When finished, click here or on the video to stop this demo</span>';\n",
        "      div.appendChild(instruction);\n",
        "      instruction.onclick = () => { shutdown = true; };\n",
        "      \n",
        "      video.srcObject = stream;\n",
        "      await video.play();\n",
        "\n",
        "      captureCanvas = document.createElement('canvas');\n",
        "      captureCanvas.width = 640; //video.videoWidth;\n",
        "      captureCanvas.height = 480; //video.videoHeight;\n",
        "      window.requestAnimationFrame(onAnimationFrame);\n",
        "      \n",
        "      return stream;\n",
        "    }\n",
        "    async function stream_frame(label, imgData) {\n",
        "      if (shutdown) {\n",
        "        removeDom();\n",
        "        shutdown = false;\n",
        "        return '';\n",
        "      }\n",
        "\n",
        "      var preCreate = Date.now();\n",
        "      stream = await createDom();\n",
        "      \n",
        "      var preShow = Date.now();\n",
        "      if (label != \"\") {\n",
        "        labelElement.innerHTML = label;\n",
        "      }\n",
        "            \n",
        "      if (imgData != \"\") {\n",
        "        var videoRect = video.getClientRects()[0];\n",
        "        imgElement.style.top = videoRect.top + \"px\";\n",
        "        imgElement.style.left = videoRect.left + \"px\";\n",
        "        imgElement.style.width = videoRect.width + \"px\";\n",
        "        imgElement.style.height = videoRect.height + \"px\";\n",
        "        imgElement.src = imgData;\n",
        "      }\n",
        "      \n",
        "      var preCapture = Date.now();\n",
        "      var result = await new Promise(function(resolve, reject) {\n",
        "        pendingResolve = resolve;\n",
        "      });\n",
        "      shutdown = false;\n",
        "      \n",
        "      return {'create': preShow - preCreate, \n",
        "              'show': preCapture - preShow, \n",
        "              'capture': Date.now() - preCapture,\n",
        "              'img': result};\n",
        "    }\n",
        "    ''')\n",
        "\n",
        "  display(js)\n",
        "  \n",
        "def video_frame(label, bbox):\n",
        "  data = eval_js('stream_frame(\"{}\", \"{}\")'.format(label, bbox))\n",
        "  return data"
      ],
      "metadata": {
        "id": "tjQtYAb9d1ve"
      },
      "execution_count": 65,
      "outputs": []
    },
    {
      "cell_type": "code",
      "source": [
        "import cv2\n",
        "from google.colab.patches import cv_imshow\n",
        "\n",
        "# Video Cam access achieved via javascript\n",
        "# start streaming video from webcam\n",
        "video_stream()\n",
        "# label for video\n",
        "label_html = 'Capturing...'\n",
        "# initialze bounding box to empty\n",
        "bbox = ''\n",
        "count = 0 \n",
        "while True:\n",
        "  js_reply = video_frame(label_html, bbox)\n",
        "  if not js_reply:\n",
        "      break\n",
        "\n",
        "  # convert JS response to OpenCV Image\n",
        "  frame = js_to_image(js_reply[\"img\"])\n",
        "  \n",
        "  face_cascade = cv2.CascadeClassifier(cv2.data.haarcascades+'haarcascade_frontalface_default.xml')\n",
        "\n",
        "  gray=cv2.cvtColor(frame, cv2.COLOR_BGR2GRAY)\n",
        "  faces=face_cascade.detectMultiScale(gray, 1.1, 4)\n",
        "  for x, y, w, h in faces:\n",
        "    roi_gray=gray[y:y+h, x:x+w]\n",
        "    roi_color=frame[y:y+h, x:x+w]\n",
        "    cv2.rectangle(frame, (x, y), (x+w, y+h), (255, 255, 0), 2)\n",
        "    \n",
        "  graytemp = cv2.cvtColor(roi_color, cv2.COLOR_BGR2GRAY)\n",
        "\n",
        "  final_img=cv2.resize(graytemp, (48, 48))\n",
        "  final_img=np.expand_dims(final_img, axis=0) #adds 3rd dimension\n",
        "  final_img=np.expand_dims(final_img, axis=0) #adds 4th dimension\n",
        "  final_img=final_img/255.0 #normalization\n",
        "\n",
        "  data=torch.from_numpy(final_img)\n",
        "  data=data.type(torch.FloatTensor)\n",
        "  data=data.to(device)\n",
        "\n",
        "  Output=model(data)\n",
        "  pred = F.softmax(Output, dim=1)\n",
        "  index_pred=torch.argmax(pred)\n",
        "\n",
        "  if index_pred==0:\n",
        "    status=\"Angry\"\n",
        "  if index_pred==1:\n",
        "    status=\"Disgust\"\n",
        "  if index_pred==2:\n",
        "    status=\"Fear\"\n",
        "  if index_pred==3:\n",
        "    status=\"Happy\"\n",
        "  if index_pred==4:\n",
        "    status=\"Sad\"\n",
        "  if index_pred==5:\n",
        "    status=\"Surprise\"\n",
        "  if index_pred==6:\n",
        "    status=\"Neutral\"\n",
        "  \n",
        "  x1, y1, w1, h1 = 0, 0, 175, 75\n",
        "  font = cv2.FONT_HERSHEY_COMPLEX\n",
        "  cv2.rectangle(frame, (x1, y1), (x1+w1, y1+h1), (0, 0, 0), -1)\n",
        "  cv2.putText(frame, status, (x1+int(w1/10), y1+int(h1/2)), font, 0.7, (0, 255, 0), 2)\n",
        "  cv_imshow(frame)     "
      ],
      "metadata": {
        "id": "tYc6a9cyLQzH"
      },
      "execution_count": 77,
      "outputs": []
    }
  ],
  "metadata": {
    "colab": {
      "collapsed_sections": [],
      "name": "Face_Emotion_Recognition.ipynb",
      "provenance": [],
      "authorship_tag": "ABX9TyMTW21sK8C/+so/WNsU996C",
      "include_colab_link": true
    },
    "kernelspec": {
      "display_name": "Python 3",
      "name": "python3"
    },
    "language_info": {
      "name": "python"
    }
  },
  "nbformat": 4,
  "nbformat_minor": 0
}